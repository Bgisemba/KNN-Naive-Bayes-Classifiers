{
  "nbformat": 4,
  "nbformat_minor": 0,
  "metadata": {
    "colab": {
      "name": "Moringa School Week 9 IP Brian Michira KNN Classifier",
      "provenance": [],
      "collapsed_sections": [],
      "toc_visible": true,
      "authorship_tag": "ABX9TyON+i8OSKGTjMVsIHEquRH3",
      "include_colab_link": true
    },
    "kernelspec": {
      "name": "python3",
      "display_name": "Python 3"
    },
    "language_info": {
      "name": "python"
    }
  },
  "cells": [
    {
      "cell_type": "markdown",
      "metadata": {
        "id": "view-in-github",
        "colab_type": "text"
      },
      "source": [
        "<a href=\"https://colab.research.google.com/github/BrianGisemba/KNN-Naive-Bayes-Classifiers/blob/main/Moringa_School_Week_9_IP_Brian_Michira_KNN_Classifier.ipynb\" target=\"_parent\"><img src=\"https://colab.research.google.com/assets/colab-badge.svg\" alt=\"Open In Colab\"/></a>"
      ]
    },
    {
      "cell_type": "markdown",
      "metadata": {
        "id": "31PDMZzGfPRs"
      },
      "source": [
        "##Defining the Question"
      ]
    },
    {
      "cell_type": "markdown",
      "metadata": {
        "id": "tt7ScJCRfV38"
      },
      "source": [
        "##Specifying the Question\n",
        "\n",
        "Predict the Passengers who survived in the Titanic disaster using the K Nearest Neighbours Classifier."
      ]
    },
    {
      "cell_type": "markdown",
      "metadata": {
        "id": "vlaoJ9EKgAMN"
      },
      "source": [
        "##Defining the Metrics for Succes\n",
        "\n",
        "Creating a model that has an accuracy score of above 80%."
      ]
    },
    {
      "cell_type": "markdown",
      "metadata": {
        "id": "prSQ4iAZgVrm"
      },
      "source": [
        "##Understanding the Context\n",
        "\n",
        "The RMS titanic sank on 15th April 1912.The titnic had an estimated 2,224 people on boardwhen she struck an iceberg.Her sinking resultedin deaths ofof more than 1500 people making it one of the deadliest maritime disasters in history.Almost all of those who jumped or fell into the water drowned or died within minutes due to the effects of cold shock. The RMS Carpathia arrived about an hour and a half after the sinking and rescued all of the survivors.\n"
      ]
    },
    {
      "cell_type": "markdown",
      "metadata": {
        "id": "UWpUS5qggjpR"
      },
      "source": [
        "##Recording the Experimental Design\n",
        "\n",
        "1. Defining the Question.\n",
        "2. Loading and Previewing the Dataset.\n",
        "3. Data Cleaning.\n",
        "4. Modelling.\n",
        "5. Challenging the Solution.\n",
        "6. Conclusion."
      ]
    },
    {
      "cell_type": "markdown",
      "metadata": {
        "id": "uNHsbc2A8vvy"
      },
      "source": [
        "#Importing Libraries"
      ]
    },
    {
      "cell_type": "code",
      "metadata": {
        "id": "UfNSF1IR8F0L"
      },
      "source": [
        "# importing libraries\n",
        "import pandas as pd\n",
        "import numpy as np\n",
        "import seaborn as sns\n",
        "import matplotlib.pyplot as plt\n",
        "%matplotlib inline\n",
        "import warnings\n",
        "warnings.filterwarnings('ignore') "
      ],
      "execution_count": null,
      "outputs": []
    },
    {
      "cell_type": "markdown",
      "metadata": {
        "id": "LmaqSGay91Se"
      },
      "source": [
        "#Loading and Previewing the Dataset"
      ]
    },
    {
      "cell_type": "code",
      "metadata": {
        "id": "O9xeNWva8rQt"
      },
      "source": [
        "#loading the dataset\n",
        "titanic=pd.read_csv(\"/content/train (5).csv\")"
      ],
      "execution_count": null,
      "outputs": []
    },
    {
      "cell_type": "code",
      "metadata": {
        "colab": {
          "base_uri": "https://localhost:8080/",
          "height": 272
        },
        "id": "Cuxm0MeX-NHM",
        "outputId": "0c937e51-5a31-4c6c-e602-6dea7bef91c0"
      },
      "source": [
        "#viewing th top of the dataset\n",
        "titanic.head()"
      ],
      "execution_count": null,
      "outputs": [
        {
          "output_type": "execute_result",
          "data": {
            "text/html": [
              "<div>\n",
              "<style scoped>\n",
              "    .dataframe tbody tr th:only-of-type {\n",
              "        vertical-align: middle;\n",
              "    }\n",
              "\n",
              "    .dataframe tbody tr th {\n",
              "        vertical-align: top;\n",
              "    }\n",
              "\n",
              "    .dataframe thead th {\n",
              "        text-align: right;\n",
              "    }\n",
              "</style>\n",
              "<table border=\"1\" class=\"dataframe\">\n",
              "  <thead>\n",
              "    <tr style=\"text-align: right;\">\n",
              "      <th></th>\n",
              "      <th>PassengerId</th>\n",
              "      <th>Survived</th>\n",
              "      <th>Pclass</th>\n",
              "      <th>Name</th>\n",
              "      <th>Sex</th>\n",
              "      <th>Age</th>\n",
              "      <th>SibSp</th>\n",
              "      <th>Parch</th>\n",
              "      <th>Ticket</th>\n",
              "      <th>Fare</th>\n",
              "      <th>Cabin</th>\n",
              "      <th>Embarked</th>\n",
              "    </tr>\n",
              "  </thead>\n",
              "  <tbody>\n",
              "    <tr>\n",
              "      <th>0</th>\n",
              "      <td>1</td>\n",
              "      <td>0</td>\n",
              "      <td>3</td>\n",
              "      <td>Braund, Mr. Owen Harris</td>\n",
              "      <td>male</td>\n",
              "      <td>22.0</td>\n",
              "      <td>1</td>\n",
              "      <td>0</td>\n",
              "      <td>A/5 21171</td>\n",
              "      <td>7.2500</td>\n",
              "      <td>NaN</td>\n",
              "      <td>S</td>\n",
              "    </tr>\n",
              "    <tr>\n",
              "      <th>1</th>\n",
              "      <td>2</td>\n",
              "      <td>1</td>\n",
              "      <td>1</td>\n",
              "      <td>Cumings, Mrs. John Bradley (Florence Briggs Th...</td>\n",
              "      <td>female</td>\n",
              "      <td>38.0</td>\n",
              "      <td>1</td>\n",
              "      <td>0</td>\n",
              "      <td>PC 17599</td>\n",
              "      <td>71.2833</td>\n",
              "      <td>C85</td>\n",
              "      <td>C</td>\n",
              "    </tr>\n",
              "    <tr>\n",
              "      <th>2</th>\n",
              "      <td>3</td>\n",
              "      <td>1</td>\n",
              "      <td>3</td>\n",
              "      <td>Heikkinen, Miss. Laina</td>\n",
              "      <td>female</td>\n",
              "      <td>26.0</td>\n",
              "      <td>0</td>\n",
              "      <td>0</td>\n",
              "      <td>STON/O2. 3101282</td>\n",
              "      <td>7.9250</td>\n",
              "      <td>NaN</td>\n",
              "      <td>S</td>\n",
              "    </tr>\n",
              "    <tr>\n",
              "      <th>3</th>\n",
              "      <td>4</td>\n",
              "      <td>1</td>\n",
              "      <td>1</td>\n",
              "      <td>Futrelle, Mrs. Jacques Heath (Lily May Peel)</td>\n",
              "      <td>female</td>\n",
              "      <td>35.0</td>\n",
              "      <td>1</td>\n",
              "      <td>0</td>\n",
              "      <td>113803</td>\n",
              "      <td>53.1000</td>\n",
              "      <td>C123</td>\n",
              "      <td>S</td>\n",
              "    </tr>\n",
              "    <tr>\n",
              "      <th>4</th>\n",
              "      <td>5</td>\n",
              "      <td>0</td>\n",
              "      <td>3</td>\n",
              "      <td>Allen, Mr. William Henry</td>\n",
              "      <td>male</td>\n",
              "      <td>35.0</td>\n",
              "      <td>0</td>\n",
              "      <td>0</td>\n",
              "      <td>373450</td>\n",
              "      <td>8.0500</td>\n",
              "      <td>NaN</td>\n",
              "      <td>S</td>\n",
              "    </tr>\n",
              "  </tbody>\n",
              "</table>\n",
              "</div>"
            ],
            "text/plain": [
              "   PassengerId  Survived  Pclass  ...     Fare Cabin  Embarked\n",
              "0            1         0       3  ...   7.2500   NaN         S\n",
              "1            2         1       1  ...  71.2833   C85         C\n",
              "2            3         1       3  ...   7.9250   NaN         S\n",
              "3            4         1       1  ...  53.1000  C123         S\n",
              "4            5         0       3  ...   8.0500   NaN         S\n",
              "\n",
              "[5 rows x 12 columns]"
            ]
          },
          "metadata": {
            "tags": []
          },
          "execution_count": 3
        }
      ]
    },
    {
      "cell_type": "code",
      "metadata": {
        "colab": {
          "base_uri": "https://localhost:8080/",
          "height": 221
        },
        "id": "QsPeTr8S-TQw",
        "outputId": "45c2dd2a-6674-48bd-d06e-46bd963500d0"
      },
      "source": [
        "#viewing the bottom of the dataset\n",
        "titanic.tail()"
      ],
      "execution_count": null,
      "outputs": [
        {
          "output_type": "execute_result",
          "data": {
            "text/html": [
              "<div>\n",
              "<style scoped>\n",
              "    .dataframe tbody tr th:only-of-type {\n",
              "        vertical-align: middle;\n",
              "    }\n",
              "\n",
              "    .dataframe tbody tr th {\n",
              "        vertical-align: top;\n",
              "    }\n",
              "\n",
              "    .dataframe thead th {\n",
              "        text-align: right;\n",
              "    }\n",
              "</style>\n",
              "<table border=\"1\" class=\"dataframe\">\n",
              "  <thead>\n",
              "    <tr style=\"text-align: right;\">\n",
              "      <th></th>\n",
              "      <th>PassengerId</th>\n",
              "      <th>Survived</th>\n",
              "      <th>Pclass</th>\n",
              "      <th>Name</th>\n",
              "      <th>Sex</th>\n",
              "      <th>Age</th>\n",
              "      <th>SibSp</th>\n",
              "      <th>Parch</th>\n",
              "      <th>Ticket</th>\n",
              "      <th>Fare</th>\n",
              "      <th>Cabin</th>\n",
              "      <th>Embarked</th>\n",
              "    </tr>\n",
              "  </thead>\n",
              "  <tbody>\n",
              "    <tr>\n",
              "      <th>886</th>\n",
              "      <td>887</td>\n",
              "      <td>0</td>\n",
              "      <td>2</td>\n",
              "      <td>Montvila, Rev. Juozas</td>\n",
              "      <td>male</td>\n",
              "      <td>27.0</td>\n",
              "      <td>0</td>\n",
              "      <td>0</td>\n",
              "      <td>211536</td>\n",
              "      <td>13.00</td>\n",
              "      <td>NaN</td>\n",
              "      <td>S</td>\n",
              "    </tr>\n",
              "    <tr>\n",
              "      <th>887</th>\n",
              "      <td>888</td>\n",
              "      <td>1</td>\n",
              "      <td>1</td>\n",
              "      <td>Graham, Miss. Margaret Edith</td>\n",
              "      <td>female</td>\n",
              "      <td>19.0</td>\n",
              "      <td>0</td>\n",
              "      <td>0</td>\n",
              "      <td>112053</td>\n",
              "      <td>30.00</td>\n",
              "      <td>B42</td>\n",
              "      <td>S</td>\n",
              "    </tr>\n",
              "    <tr>\n",
              "      <th>888</th>\n",
              "      <td>889</td>\n",
              "      <td>0</td>\n",
              "      <td>3</td>\n",
              "      <td>Johnston, Miss. Catherine Helen \"Carrie\"</td>\n",
              "      <td>female</td>\n",
              "      <td>NaN</td>\n",
              "      <td>1</td>\n",
              "      <td>2</td>\n",
              "      <td>W./C. 6607</td>\n",
              "      <td>23.45</td>\n",
              "      <td>NaN</td>\n",
              "      <td>S</td>\n",
              "    </tr>\n",
              "    <tr>\n",
              "      <th>889</th>\n",
              "      <td>890</td>\n",
              "      <td>1</td>\n",
              "      <td>1</td>\n",
              "      <td>Behr, Mr. Karl Howell</td>\n",
              "      <td>male</td>\n",
              "      <td>26.0</td>\n",
              "      <td>0</td>\n",
              "      <td>0</td>\n",
              "      <td>111369</td>\n",
              "      <td>30.00</td>\n",
              "      <td>C148</td>\n",
              "      <td>C</td>\n",
              "    </tr>\n",
              "    <tr>\n",
              "      <th>890</th>\n",
              "      <td>891</td>\n",
              "      <td>0</td>\n",
              "      <td>3</td>\n",
              "      <td>Dooley, Mr. Patrick</td>\n",
              "      <td>male</td>\n",
              "      <td>32.0</td>\n",
              "      <td>0</td>\n",
              "      <td>0</td>\n",
              "      <td>370376</td>\n",
              "      <td>7.75</td>\n",
              "      <td>NaN</td>\n",
              "      <td>Q</td>\n",
              "    </tr>\n",
              "  </tbody>\n",
              "</table>\n",
              "</div>"
            ],
            "text/plain": [
              "     PassengerId  Survived  Pclass  ...   Fare Cabin  Embarked\n",
              "886          887         0       2  ...  13.00   NaN         S\n",
              "887          888         1       1  ...  30.00   B42         S\n",
              "888          889         0       3  ...  23.45   NaN         S\n",
              "889          890         1       1  ...  30.00  C148         C\n",
              "890          891         0       3  ...   7.75   NaN         Q\n",
              "\n",
              "[5 rows x 12 columns]"
            ]
          },
          "metadata": {
            "tags": []
          },
          "execution_count": 4
        }
      ]
    },
    {
      "cell_type": "code",
      "metadata": {
        "colab": {
          "base_uri": "https://localhost:8080/"
        },
        "id": "2APE6u9S-gab",
        "outputId": "c1557fe3-9387-41ec-b34e-36bb25eba503"
      },
      "source": [
        "#checking the number of records\n",
        "titanic.shape"
      ],
      "execution_count": null,
      "outputs": [
        {
          "output_type": "execute_result",
          "data": {
            "text/plain": [
              "(891, 12)"
            ]
          },
          "metadata": {
            "tags": []
          },
          "execution_count": 5
        }
      ]
    },
    {
      "cell_type": "code",
      "metadata": {
        "colab": {
          "base_uri": "https://localhost:8080/"
        },
        "id": "gIqzfxh6-oqr",
        "outputId": "5b65dfc7-119e-4792-977e-aa89acce82c5"
      },
      "source": [
        "#checking the info of the dataset\n",
        "titanic.info()"
      ],
      "execution_count": null,
      "outputs": [
        {
          "output_type": "stream",
          "text": [
            "<class 'pandas.core.frame.DataFrame'>\n",
            "RangeIndex: 891 entries, 0 to 890\n",
            "Data columns (total 12 columns):\n",
            " #   Column       Non-Null Count  Dtype  \n",
            "---  ------       --------------  -----  \n",
            " 0   PassengerId  891 non-null    int64  \n",
            " 1   Survived     891 non-null    int64  \n",
            " 2   Pclass       891 non-null    int64  \n",
            " 3   Name         891 non-null    object \n",
            " 4   Sex          891 non-null    object \n",
            " 5   Age          714 non-null    float64\n",
            " 6   SibSp        891 non-null    int64  \n",
            " 7   Parch        891 non-null    int64  \n",
            " 8   Ticket       891 non-null    object \n",
            " 9   Fare         891 non-null    float64\n",
            " 10  Cabin        204 non-null    object \n",
            " 11  Embarked     889 non-null    object \n",
            "dtypes: float64(2), int64(5), object(5)\n",
            "memory usage: 83.7+ KB\n"
          ],
          "name": "stdout"
        }
      ]
    },
    {
      "cell_type": "markdown",
      "metadata": {
        "id": "pMJha0Rm_DeW"
      },
      "source": [
        "# Cleaning the Dataset"
      ]
    },
    {
      "cell_type": "markdown",
      "metadata": {
        "id": "B895K4R6_sNf"
      },
      "source": [
        "## Validity"
      ]
    },
    {
      "cell_type": "code",
      "metadata": {
        "colab": {
          "base_uri": "https://localhost:8080/"
        },
        "id": "pIFDFjv3_C1o",
        "outputId": "03d0be91-37ac-4395-93ea-c60b218e0870"
      },
      "source": [
        "#checking for irrelevant columns \n",
        "titanic.columns"
      ],
      "execution_count": null,
      "outputs": [
        {
          "output_type": "execute_result",
          "data": {
            "text/plain": [
              "Index(['PassengerId', 'Survived', 'Pclass', 'Name', 'Sex', 'Age', 'SibSp',\n",
              "       'Parch', 'Ticket', 'Fare', 'Cabin', 'Embarked'],\n",
              "      dtype='object')"
            ]
          },
          "metadata": {
            "tags": []
          },
          "execution_count": 7
        }
      ]
    },
    {
      "cell_type": "code",
      "metadata": {
        "id": "de4iZ5VV-1T4"
      },
      "source": [
        "#list of irrelevant columns\n",
        "col=['PassengerId', 'Name','Fare','Ticket','Cabin']"
      ],
      "execution_count": null,
      "outputs": []
    },
    {
      "cell_type": "code",
      "metadata": {
        "id": "P0k6y-MBCpcT"
      },
      "source": [
        "#dropping the columns\n",
        "titanic.drop(col,inplace=True,axis=1)"
      ],
      "execution_count": null,
      "outputs": []
    },
    {
      "cell_type": "code",
      "metadata": {
        "colab": {
          "base_uri": "https://localhost:8080/",
          "height": 204
        },
        "id": "xeaF1UCeCo5r",
        "outputId": "6b81b24d-2363-4f20-a9d5-9995b17d1247"
      },
      "source": [
        "#viewing the new dataset\n",
        "titanic.head()"
      ],
      "execution_count": null,
      "outputs": [
        {
          "output_type": "execute_result",
          "data": {
            "text/html": [
              "<div>\n",
              "<style scoped>\n",
              "    .dataframe tbody tr th:only-of-type {\n",
              "        vertical-align: middle;\n",
              "    }\n",
              "\n",
              "    .dataframe tbody tr th {\n",
              "        vertical-align: top;\n",
              "    }\n",
              "\n",
              "    .dataframe thead th {\n",
              "        text-align: right;\n",
              "    }\n",
              "</style>\n",
              "<table border=\"1\" class=\"dataframe\">\n",
              "  <thead>\n",
              "    <tr style=\"text-align: right;\">\n",
              "      <th></th>\n",
              "      <th>Survived</th>\n",
              "      <th>Pclass</th>\n",
              "      <th>Sex</th>\n",
              "      <th>Age</th>\n",
              "      <th>SibSp</th>\n",
              "      <th>Parch</th>\n",
              "      <th>Embarked</th>\n",
              "    </tr>\n",
              "  </thead>\n",
              "  <tbody>\n",
              "    <tr>\n",
              "      <th>0</th>\n",
              "      <td>0</td>\n",
              "      <td>3</td>\n",
              "      <td>male</td>\n",
              "      <td>22.0</td>\n",
              "      <td>1</td>\n",
              "      <td>0</td>\n",
              "      <td>S</td>\n",
              "    </tr>\n",
              "    <tr>\n",
              "      <th>1</th>\n",
              "      <td>1</td>\n",
              "      <td>1</td>\n",
              "      <td>female</td>\n",
              "      <td>38.0</td>\n",
              "      <td>1</td>\n",
              "      <td>0</td>\n",
              "      <td>C</td>\n",
              "    </tr>\n",
              "    <tr>\n",
              "      <th>2</th>\n",
              "      <td>1</td>\n",
              "      <td>3</td>\n",
              "      <td>female</td>\n",
              "      <td>26.0</td>\n",
              "      <td>0</td>\n",
              "      <td>0</td>\n",
              "      <td>S</td>\n",
              "    </tr>\n",
              "    <tr>\n",
              "      <th>3</th>\n",
              "      <td>1</td>\n",
              "      <td>1</td>\n",
              "      <td>female</td>\n",
              "      <td>35.0</td>\n",
              "      <td>1</td>\n",
              "      <td>0</td>\n",
              "      <td>S</td>\n",
              "    </tr>\n",
              "    <tr>\n",
              "      <th>4</th>\n",
              "      <td>0</td>\n",
              "      <td>3</td>\n",
              "      <td>male</td>\n",
              "      <td>35.0</td>\n",
              "      <td>0</td>\n",
              "      <td>0</td>\n",
              "      <td>S</td>\n",
              "    </tr>\n",
              "  </tbody>\n",
              "</table>\n",
              "</div>"
            ],
            "text/plain": [
              "   Survived  Pclass     Sex   Age  SibSp  Parch Embarked\n",
              "0         0       3    male  22.0      1      0        S\n",
              "1         1       1  female  38.0      1      0        C\n",
              "2         1       3  female  26.0      0      0        S\n",
              "3         1       1  female  35.0      1      0        S\n",
              "4         0       3    male  35.0      0      0        S"
            ]
          },
          "metadata": {
            "tags": []
          },
          "execution_count": 10
        }
      ]
    },
    {
      "cell_type": "markdown",
      "metadata": {
        "id": "6s8J9c22DRPy"
      },
      "source": [
        "## Uniformity"
      ]
    },
    {
      "cell_type": "code",
      "metadata": {
        "colab": {
          "base_uri": "https://localhost:8080/"
        },
        "id": "WY1KcIEpDVw4",
        "outputId": "0b0ee1b0-cd44-49d5-ee0a-90fa8448222b"
      },
      "source": [
        "#We shall rename our column names to be in pascal naming convection\n",
        "titanic.columns = titanic.columns.str.strip().str.lower().str.replace(' ','_').str.replace('(','').str.replace(')','')\n",
        "#confirm if the code above has been implemented\n",
        "titanic.columns"
      ],
      "execution_count": null,
      "outputs": [
        {
          "output_type": "execute_result",
          "data": {
            "text/plain": [
              "Index(['survived', 'pclass', 'sex', 'age', 'sibsp', 'parch', 'embarked'], dtype='object')"
            ]
          },
          "metadata": {
            "tags": []
          },
          "execution_count": 11
        }
      ]
    },
    {
      "cell_type": "markdown",
      "metadata": {
        "id": "2iOxql8rDpot"
      },
      "source": [
        "##Consistency"
      ]
    },
    {
      "cell_type": "code",
      "metadata": {
        "colab": {
          "base_uri": "https://localhost:8080/"
        },
        "id": "pJPYcicHHyY_",
        "outputId": "aa0cf141-558f-4380-ddad-3df90043b505"
      },
      "source": [
        "#Checking for duplicates\n",
        "titanic.duplicated().sum()"
      ],
      "execution_count": null,
      "outputs": [
        {
          "output_type": "execute_result",
          "data": {
            "text/plain": [
              "306"
            ]
          },
          "metadata": {
            "tags": []
          },
          "execution_count": 12
        }
      ]
    },
    {
      "cell_type": "code",
      "metadata": {
        "colab": {
          "base_uri": "https://localhost:8080/",
          "height": 419
        },
        "id": "h5wj7zURIuob",
        "outputId": "d56b0d33-eb3f-491c-f7f8-b0ca5b314f38"
      },
      "source": [
        "#viewing the duplicates\n",
        "titanic[titanic.duplicated()]"
      ],
      "execution_count": null,
      "outputs": [
        {
          "output_type": "execute_result",
          "data": {
            "text/html": [
              "<div>\n",
              "<style scoped>\n",
              "    .dataframe tbody tr th:only-of-type {\n",
              "        vertical-align: middle;\n",
              "    }\n",
              "\n",
              "    .dataframe tbody tr th {\n",
              "        vertical-align: top;\n",
              "    }\n",
              "\n",
              "    .dataframe thead th {\n",
              "        text-align: right;\n",
              "    }\n",
              "</style>\n",
              "<table border=\"1\" class=\"dataframe\">\n",
              "  <thead>\n",
              "    <tr style=\"text-align: right;\">\n",
              "      <th></th>\n",
              "      <th>survived</th>\n",
              "      <th>pclass</th>\n",
              "      <th>sex</th>\n",
              "      <th>age</th>\n",
              "      <th>sibsp</th>\n",
              "      <th>parch</th>\n",
              "      <th>embarked</th>\n",
              "    </tr>\n",
              "  </thead>\n",
              "  <tbody>\n",
              "    <tr>\n",
              "      <th>32</th>\n",
              "      <td>1</td>\n",
              "      <td>3</td>\n",
              "      <td>female</td>\n",
              "      <td>NaN</td>\n",
              "      <td>0</td>\n",
              "      <td>0</td>\n",
              "      <td>Q</td>\n",
              "    </tr>\n",
              "    <tr>\n",
              "      <th>42</th>\n",
              "      <td>0</td>\n",
              "      <td>3</td>\n",
              "      <td>male</td>\n",
              "      <td>NaN</td>\n",
              "      <td>0</td>\n",
              "      <td>0</td>\n",
              "      <td>C</td>\n",
              "    </tr>\n",
              "    <tr>\n",
              "      <th>45</th>\n",
              "      <td>0</td>\n",
              "      <td>3</td>\n",
              "      <td>male</td>\n",
              "      <td>NaN</td>\n",
              "      <td>0</td>\n",
              "      <td>0</td>\n",
              "      <td>S</td>\n",
              "    </tr>\n",
              "    <tr>\n",
              "      <th>47</th>\n",
              "      <td>1</td>\n",
              "      <td>3</td>\n",
              "      <td>female</td>\n",
              "      <td>NaN</td>\n",
              "      <td>0</td>\n",
              "      <td>0</td>\n",
              "      <td>Q</td>\n",
              "    </tr>\n",
              "    <tr>\n",
              "      <th>51</th>\n",
              "      <td>0</td>\n",
              "      <td>3</td>\n",
              "      <td>male</td>\n",
              "      <td>21.0</td>\n",
              "      <td>0</td>\n",
              "      <td>0</td>\n",
              "      <td>S</td>\n",
              "    </tr>\n",
              "    <tr>\n",
              "      <th>...</th>\n",
              "      <td>...</td>\n",
              "      <td>...</td>\n",
              "      <td>...</td>\n",
              "      <td>...</td>\n",
              "      <td>...</td>\n",
              "      <td>...</td>\n",
              "      <td>...</td>\n",
              "    </tr>\n",
              "    <tr>\n",
              "      <th>881</th>\n",
              "      <td>0</td>\n",
              "      <td>3</td>\n",
              "      <td>male</td>\n",
              "      <td>33.0</td>\n",
              "      <td>0</td>\n",
              "      <td>0</td>\n",
              "      <td>S</td>\n",
              "    </tr>\n",
              "    <tr>\n",
              "      <th>882</th>\n",
              "      <td>0</td>\n",
              "      <td>3</td>\n",
              "      <td>female</td>\n",
              "      <td>22.0</td>\n",
              "      <td>0</td>\n",
              "      <td>0</td>\n",
              "      <td>S</td>\n",
              "    </tr>\n",
              "    <tr>\n",
              "      <th>883</th>\n",
              "      <td>0</td>\n",
              "      <td>2</td>\n",
              "      <td>male</td>\n",
              "      <td>28.0</td>\n",
              "      <td>0</td>\n",
              "      <td>0</td>\n",
              "      <td>S</td>\n",
              "    </tr>\n",
              "    <tr>\n",
              "      <th>884</th>\n",
              "      <td>0</td>\n",
              "      <td>3</td>\n",
              "      <td>male</td>\n",
              "      <td>25.0</td>\n",
              "      <td>0</td>\n",
              "      <td>0</td>\n",
              "      <td>S</td>\n",
              "    </tr>\n",
              "    <tr>\n",
              "      <th>886</th>\n",
              "      <td>0</td>\n",
              "      <td>2</td>\n",
              "      <td>male</td>\n",
              "      <td>27.0</td>\n",
              "      <td>0</td>\n",
              "      <td>0</td>\n",
              "      <td>S</td>\n",
              "    </tr>\n",
              "  </tbody>\n",
              "</table>\n",
              "<p>306 rows × 7 columns</p>\n",
              "</div>"
            ],
            "text/plain": [
              "     survived  pclass     sex   age  sibsp  parch embarked\n",
              "32          1       3  female   NaN      0      0        Q\n",
              "42          0       3    male   NaN      0      0        C\n",
              "45          0       3    male   NaN      0      0        S\n",
              "47          1       3  female   NaN      0      0        Q\n",
              "51          0       3    male  21.0      0      0        S\n",
              "..        ...     ...     ...   ...    ...    ...      ...\n",
              "881         0       3    male  33.0      0      0        S\n",
              "882         0       3  female  22.0      0      0        S\n",
              "883         0       2    male  28.0      0      0        S\n",
              "884         0       3    male  25.0      0      0        S\n",
              "886         0       2    male  27.0      0      0        S\n",
              "\n",
              "[306 rows x 7 columns]"
            ]
          },
          "metadata": {
            "tags": []
          },
          "execution_count": 13
        }
      ]
    },
    {
      "cell_type": "markdown",
      "metadata": {
        "id": "NgSl051YI911"
      },
      "source": [
        "Dropping the duplicates would affect the analysis hence we decided not to drop them."
      ]
    },
    {
      "cell_type": "markdown",
      "metadata": {
        "id": "2Zw5jn19JYt_"
      },
      "source": [
        "##Completness"
      ]
    },
    {
      "cell_type": "code",
      "metadata": {
        "colab": {
          "base_uri": "https://localhost:8080/"
        },
        "id": "3VvkvBjdI9dm",
        "outputId": "14a287b0-4f30-4d64-deb9-b9f8b054038e"
      },
      "source": [
        "#We shall check for any null values in our data\n",
        "titanic.isnull().sum()"
      ],
      "execution_count": null,
      "outputs": [
        {
          "output_type": "execute_result",
          "data": {
            "text/plain": [
              "survived      0\n",
              "pclass        0\n",
              "sex           0\n",
              "age         177\n",
              "sibsp         0\n",
              "parch         0\n",
              "embarked      2\n",
              "dtype: int64"
            ]
          },
          "metadata": {
            "tags": []
          },
          "execution_count": 14
        }
      ]
    },
    {
      "cell_type": "code",
      "metadata": {
        "id": "7Qe5HHqIJuG1"
      },
      "source": [
        "#dealing with null values by inputing the mean\n",
        "titanic['age'].fillna(titanic['age'].mean(), inplace=True)"
      ],
      "execution_count": null,
      "outputs": []
    },
    {
      "cell_type": "code",
      "metadata": {
        "colab": {
          "base_uri": "https://localhost:8080/"
        },
        "id": "i879sEZwKPmA",
        "outputId": "2dbe89b8-f903-4970-b984-57f3a56bec3e"
      },
      "source": [
        "#dealing with null values in embarked by imputing the mode value\n",
        "titanic['embarked'].value_counts()"
      ],
      "execution_count": null,
      "outputs": [
        {
          "output_type": "execute_result",
          "data": {
            "text/plain": [
              "S    644\n",
              "C    168\n",
              "Q     77\n",
              "Name: embarked, dtype: int64"
            ]
          },
          "metadata": {
            "tags": []
          },
          "execution_count": 16
        }
      ]
    },
    {
      "cell_type": "code",
      "metadata": {
        "id": "20dK60p6MOFw"
      },
      "source": [
        "titanic['embarked'].fillna('S', inplace = True)"
      ],
      "execution_count": null,
      "outputs": []
    },
    {
      "cell_type": "code",
      "metadata": {
        "colab": {
          "base_uri": "https://localhost:8080/"
        },
        "id": "x9TFytylMYWA",
        "outputId": "44d3655c-062c-467d-eb0e-e3a7d0210662"
      },
      "source": [
        "#checking for null  values\n",
        "titanic.isnull().sum()"
      ],
      "execution_count": null,
      "outputs": [
        {
          "output_type": "execute_result",
          "data": {
            "text/plain": [
              "survived    0\n",
              "pclass      0\n",
              "sex         0\n",
              "age         0\n",
              "sibsp       0\n",
              "parch       0\n",
              "embarked    0\n",
              "dtype: int64"
            ]
          },
          "metadata": {
            "tags": []
          },
          "execution_count": 18
        }
      ]
    },
    {
      "cell_type": "markdown",
      "metadata": {
        "id": "uRqfC1tMM5KN"
      },
      "source": [
        "##Outliers"
      ]
    },
    {
      "cell_type": "code",
      "metadata": {
        "colab": {
          "base_uri": "https://localhost:8080/"
        },
        "id": "ZYq34GfeNmZ4",
        "outputId": "0a1b7985-e40b-445c-dc3b-7dc7ea4b8505"
      },
      "source": [
        "#checking the columns\n",
        "titanic.columns"
      ],
      "execution_count": null,
      "outputs": [
        {
          "output_type": "execute_result",
          "data": {
            "text/plain": [
              "Index(['survived', 'pclass', 'sex', 'age', 'sibsp', 'parch', 'embarked'], dtype='object')"
            ]
          },
          "metadata": {
            "tags": []
          },
          "execution_count": 19
        }
      ]
    },
    {
      "cell_type": "code",
      "metadata": {
        "colab": {
          "base_uri": "https://localhost:8080/",
          "height": 619
        },
        "id": "byhVKBRKNZ7N",
        "outputId": "cf2908eb-5e53-4fef-b6b0-b4bcb18d69e0"
      },
      "source": [
        "#checking for outliers\n",
        "col_names=['pclass', 'age', 'sibsp', 'parch']\n",
        "\n",
        "fig, ax = plt.subplots(len(col_names), figsize=(15,10))\n",
        "\n",
        "for i, col_val in enumerate(col_names):\n",
        "    sns.boxplot(titanic[col_val], ax=ax[i])\n",
        "    ax[i].set_title('Box plot - {}'.format(col_val), fontsize=10)\n",
        "    ax[i].set_xlabel(col_val, fontsize=8)\n",
        "plt.show()"
      ],
      "execution_count": null,
      "outputs": [
        {
          "output_type": "display_data",
          "data": {
            "image/png": "[encoded data removed]",
            "text/plain": [
              "<Figure size 1080x720 with 4 Axes>"
            ]
          },
          "metadata": {
            "tags": [],
            "needs_background": "light"
          }
        }
      ]
    },
    {
      "cell_type": "code",
      "metadata": {
        "colab": {
          "base_uri": "https://localhost:8080/"
        },
        "id": "RNZfedrUOgVi",
        "outputId": "92b651ff-6ce3-4b4f-e372-d8c00033effd"
      },
      "source": [
        "# dealing with outliers\n",
        "# quantiles\n",
        "Q1 = titanic.quantile(0.25)\n",
        "Q3 = titanic.quantile(0.75)\n",
        "IQR = Q3 - Q1\n",
        "\n",
        "# Removing outliers based on the IQR range \n",
        "titanic1 = titanic[~((titanic < (Q1 - 1.5 * IQR)) | (titanic > (Q3 + 1.5 * IQR))).any(axis=1)]\n",
        "\n",
        "# Printing the shape of our new dataset\n",
        "print(titanic1.shape)\n",
        "\n",
        "# Printing the shape of our old dataset\n",
        "print(titanic.shape)"
      ],
      "execution_count": null,
      "outputs": [
        {
          "output_type": "stream",
          "text": [
            "(642, 7)\n",
            "(891, 7)\n"
          ],
          "name": "stdout"
        }
      ]
    },
    {
      "cell_type": "markdown",
      "metadata": {
        "id": "IcdI7zx_O042"
      },
      "source": [
        "We decided not to drop the outliers since ti would affect our ananlysis."
      ]
    },
    {
      "cell_type": "markdown",
      "metadata": {
        "id": "Ih_DQfW7XX65"
      },
      "source": [
        "#Explanatory Analysis"
      ]
    },
    {
      "cell_type": "markdown",
      "metadata": {
        "id": "qAIA7n1LXdTl"
      },
      "source": [
        "## Univariate Analysis"
      ]
    },
    {
      "cell_type": "code",
      "metadata": {
        "colab": {
          "base_uri": "https://localhost:8080/",
          "height": 297
        },
        "id": "ePD6oVQ2XznY",
        "outputId": "42e25ca7-99e9-4f6b-f82a-8a095d03f738"
      },
      "source": [
        "#checking the statistical summaries of the data\n",
        "titanic.describe()"
      ],
      "execution_count": null,
      "outputs": [
        {
          "output_type": "execute_result",
          "data": {
            "text/html": [
              "<div>\n",
              "<style scoped>\n",
              "    .dataframe tbody tr th:only-of-type {\n",
              "        vertical-align: middle;\n",
              "    }\n",
              "\n",
              "    .dataframe tbody tr th {\n",
              "        vertical-align: top;\n",
              "    }\n",
              "\n",
              "    .dataframe thead th {\n",
              "        text-align: right;\n",
              "    }\n",
              "</style>\n",
              "<table border=\"1\" class=\"dataframe\">\n",
              "  <thead>\n",
              "    <tr style=\"text-align: right;\">\n",
              "      <th></th>\n",
              "      <th>survived</th>\n",
              "      <th>pclass</th>\n",
              "      <th>age</th>\n",
              "      <th>sibsp</th>\n",
              "      <th>parch</th>\n",
              "    </tr>\n",
              "  </thead>\n",
              "  <tbody>\n",
              "    <tr>\n",
              "      <th>count</th>\n",
              "      <td>891.000000</td>\n",
              "      <td>891.000000</td>\n",
              "      <td>891.000000</td>\n",
              "      <td>891.000000</td>\n",
              "      <td>891.000000</td>\n",
              "    </tr>\n",
              "    <tr>\n",
              "      <th>mean</th>\n",
              "      <td>0.383838</td>\n",
              "      <td>2.308642</td>\n",
              "      <td>29.699118</td>\n",
              "      <td>0.523008</td>\n",
              "      <td>0.381594</td>\n",
              "    </tr>\n",
              "    <tr>\n",
              "      <th>std</th>\n",
              "      <td>0.486592</td>\n",
              "      <td>0.836071</td>\n",
              "      <td>13.002015</td>\n",
              "      <td>1.102743</td>\n",
              "      <td>0.806057</td>\n",
              "    </tr>\n",
              "    <tr>\n",
              "      <th>min</th>\n",
              "      <td>0.000000</td>\n",
              "      <td>1.000000</td>\n",
              "      <td>0.420000</td>\n",
              "      <td>0.000000</td>\n",
              "      <td>0.000000</td>\n",
              "    </tr>\n",
              "    <tr>\n",
              "      <th>25%</th>\n",
              "      <td>0.000000</td>\n",
              "      <td>2.000000</td>\n",
              "      <td>22.000000</td>\n",
              "      <td>0.000000</td>\n",
              "      <td>0.000000</td>\n",
              "    </tr>\n",
              "    <tr>\n",
              "      <th>50%</th>\n",
              "      <td>0.000000</td>\n",
              "      <td>3.000000</td>\n",
              "      <td>29.699118</td>\n",
              "      <td>0.000000</td>\n",
              "      <td>0.000000</td>\n",
              "    </tr>\n",
              "    <tr>\n",
              "      <th>75%</th>\n",
              "      <td>1.000000</td>\n",
              "      <td>3.000000</td>\n",
              "      <td>35.000000</td>\n",
              "      <td>1.000000</td>\n",
              "      <td>0.000000</td>\n",
              "    </tr>\n",
              "    <tr>\n",
              "      <th>max</th>\n",
              "      <td>1.000000</td>\n",
              "      <td>3.000000</td>\n",
              "      <td>80.000000</td>\n",
              "      <td>8.000000</td>\n",
              "      <td>6.000000</td>\n",
              "    </tr>\n",
              "  </tbody>\n",
              "</table>\n",
              "</div>"
            ],
            "text/plain": [
              "         survived      pclass         age       sibsp       parch\n",
              "count  891.000000  891.000000  891.000000  891.000000  891.000000\n",
              "mean     0.383838    2.308642   29.699118    0.523008    0.381594\n",
              "std      0.486592    0.836071   13.002015    1.102743    0.806057\n",
              "min      0.000000    1.000000    0.420000    0.000000    0.000000\n",
              "25%      0.000000    2.000000   22.000000    0.000000    0.000000\n",
              "50%      0.000000    3.000000   29.699118    0.000000    0.000000\n",
              "75%      1.000000    3.000000   35.000000    1.000000    0.000000\n",
              "max      1.000000    3.000000   80.000000    8.000000    6.000000"
            ]
          },
          "metadata": {
            "tags": []
          },
          "execution_count": 22
        }
      ]
    },
    {
      "cell_type": "code",
      "metadata": {
        "id": "vCMMon4ltfea"
      },
      "source": [
        "numerical_columns=['age','sibsp','parch']"
      ],
      "execution_count": null,
      "outputs": []
    },
    {
      "cell_type": "code",
      "metadata": {
        "colab": {
          "base_uri": "https://localhost:8080/"
        },
        "id": "XPVtNzvbXzNc",
        "outputId": "0679bb49-eafd-46cb-89ef-968b60f559b4"
      },
      "source": [
        "#Measure of Central Tendancies\n",
        "#mean\n",
        "col_names = numerical_columns\n",
        "for i, col_val in enumerate(col_names):\n",
        "  print('The mean of ' + str(col_val) + ' is ' + str(titanic[col_val].mean()))"
      ],
      "execution_count": null,
      "outputs": [
        {
          "output_type": "stream",
          "text": [
            "The mean of age is 29.699117647058763\n",
            "The mean of sibsp is 0.5230078563411896\n",
            "The mean of parch is 0.38159371492704824\n"
          ],
          "name": "stdout"
        }
      ]
    },
    {
      "cell_type": "markdown",
      "metadata": {
        "id": "CTX5u3GSZQio"
      },
      "source": [
        "The mean Age is 29 years."
      ]
    },
    {
      "cell_type": "code",
      "metadata": {
        "colab": {
          "base_uri": "https://localhost:8080/"
        },
        "id": "Xsgpv9B8Yj3T",
        "outputId": "7e3dfb5a-18ac-42a9-bb7a-2636e57fc1d3"
      },
      "source": [
        "#mode\n",
        "col_names = numerical_columns\n",
        "for i, col_val in enumerate(col_names):\n",
        "  print('The mode of ' + str(col_val) + ' is ' + str(titanic[col_val].mode()))"
      ],
      "execution_count": null,
      "outputs": [
        {
          "output_type": "stream",
          "text": [
            "The mode of age is 0    29.699118\n",
            "dtype: float64\n",
            "The mode of sibsp is 0    0\n",
            "dtype: int64\n",
            "The mode of parch is 0    0\n",
            "dtype: int64\n"
          ],
          "name": "stdout"
        }
      ]
    },
    {
      "cell_type": "markdown",
      "metadata": {
        "id": "UBa4eSqLZd0d"
      },
      "source": [
        "Most of the passengers were 29 years"
      ]
    },
    {
      "cell_type": "code",
      "metadata": {
        "colab": {
          "base_uri": "https://localhost:8080/"
        },
        "id": "NJxUu-iqYxeb",
        "outputId": "5570aeec-0855-4d93-d841-4a62634a6768"
      },
      "source": [
        "#skewness\n",
        "for i, col_val in enumerate(col_names):\n",
        "  print('The skewness of ' + str(col_val) + ' is ' + str(titanic[col_val].skew()))"
      ],
      "execution_count": null,
      "outputs": [
        {
          "output_type": "stream",
          "text": [
            "The skewness of age is 0.4344880940129925\n",
            "The skewness of sibsp is 3.6953517271630565\n",
            "The skewness of parch is 2.7491170471010933\n"
          ],
          "name": "stdout"
        }
      ]
    },
    {
      "cell_type": "markdown",
      "metadata": {
        "id": "nIImtTKLj2oC"
      },
      "source": [
        " Number of siblings or spouses were positively skewed showing that most values appeared on the right side/were greater than the mean.\n",
        "\n",
        " Numbver of parents or children were positively skewed showing that most of the values appeared on the right side/are greater than the mean."
      ]
    },
    {
      "cell_type": "code",
      "metadata": {
        "colab": {
          "base_uri": "https://localhost:8080/"
        },
        "id": "CXDvn23eY2Ik",
        "outputId": "047e39fc-7d50-4f58-c782-159a3e658863"
      },
      "source": [
        "#kurtosis\n",
        "for i, col_val in enumerate(col_names):\n",
        "  print('The kurtosis of ' + str(col_val) + ' is ' + str(titanic[col_val].kurt()))"
      ],
      "execution_count": null,
      "outputs": [
        {
          "output_type": "stream",
          "text": [
            "The kurtosis of age is 0.9662793026645233\n",
            "The kurtosis of sibsp is 17.880419726645968\n",
            "The kurtosis of parch is 9.778125179021648\n"
          ],
          "name": "stdout"
        }
      ]
    },
    {
      "cell_type": "markdown",
      "metadata": {
        "id": "70qKcP0MkqvL"
      },
      "source": [
        "Number of siblings and spouses has a high kurtosis-Leptokurtic indicating presence of outliers."
      ]
    },
    {
      "cell_type": "code",
      "metadata": {
        "colab": {
          "base_uri": "https://localhost:8080/",
          "height": 498
        },
        "id": "guDkN88eXW37",
        "outputId": "c0da5b5e-46b5-4d79-efc2-380afa7c4159"
      },
      "source": [
        "# graphical representation of the univariate analysis\n",
        "\n",
        "bins = 10\n",
        "\n",
        "fig, (ax1,ax2,ax3) = plt.subplots(1, 3,figsize= (12,8))\n",
        "\n",
        "sns.distplot(titanic.age, ax=ax1, bins= bins)\n",
        "sns.distplot(titanic.sibsp, ax=ax2, bins= bins)\n",
        "sns.distplot(titanic.parch, ax=ax3, bins= bins)\n",
        "\n",
        "plt.show()"
      ],
      "execution_count": null,
      "outputs": [
        {
          "output_type": "display_data",
          "data": {
            "image/png": "[encoded data removed]",
            "text/plain": [
              "<Figure size 864x576 with 3 Axes>"
            ]
          },
          "metadata": {
            "tags": [],
            "needs_background": "light"
          }
        }
      ]
    },
    {
      "cell_type": "markdown",
      "metadata": {
        "id": "zGO2gCUZbM9U"
      },
      "source": [
        "Age is normally distributed.\n",
        "\n",
        "Number of siblings and spouse are positively skewed/skewed to the right indicated that most values appear on the right side -are greater than the mean.\n",
        "\n",
        "Number of parents and children are positively skewed/skewed to the right indicating that most values appear on the righ side."
      ]
    },
    {
      "cell_type": "code",
      "metadata": {
        "colab": {
          "base_uri": "https://localhost:8080/",
          "height": 368
        },
        "id": "S39yrrW9cXat",
        "outputId": "2b337fbb-21aa-44cd-bf36-cfed7b6a2165"
      },
      "source": [
        "#graphical representation of the categorical variables\n",
        "columns=['pclass','sex','embarked']\n",
        "plt.figure(figsize=(15,80),facecolor='white')\n",
        "plotnumber=1\n",
        "for col in columns:\n",
        "  ax=plt.subplot(12,3,plotnumber)\n",
        "  sns.countplot(y=col,data=titanic)\n",
        "  plt.xlabel(col)\n",
        "  plt.ylabel(col)\n",
        "  plotnumber+=1\n",
        "plt.show()"
      ],
      "execution_count": null,
      "outputs": [
        {
          "output_type": "display_data",
          "data": {
            "image/png": "[encoded data removed]",
            "text/plain": [
              "<Figure size 1080x5760 with 3 Axes>"
            ]
          },
          "metadata": {
            "tags": []
          }
        }
      ]
    },
    {
      "cell_type": "markdown",
      "metadata": {
        "id": "1QZalEUBdbMf"
      },
      "source": [
        "Most of the passengers were in the 3rd class.\n",
        "\n",
        "Majority of the passengers were males.\n",
        "\n",
        "Majority of the passengers boarded from Southampton."
      ]
    },
    {
      "cell_type": "markdown",
      "metadata": {
        "id": "TjawLuNfeQJ-"
      },
      "source": [
        "## Bivariate Analysis"
      ]
    },
    {
      "cell_type": "code",
      "metadata": {
        "id": "fFeMTUXHePg8",
        "colab": {
          "base_uri": "https://localhost:8080/",
          "height": 726
        },
        "outputId": "9eb2f698-4ae5-4059-c204-bba70f96c448"
      },
      "source": [
        "#plotting Bivariate summaries\n",
        "sns.pairplot(titanic,hue='survived')\n",
        "plt.show()"
      ],
      "execution_count": null,
      "outputs": [
        {
          "output_type": "display_data",
          "data": {
            "image/png": "[encoded data removed]",
            "text/plain": [
              "<Figure size 770.875x720 with 20 Axes>"
            ]
          },
          "metadata": {
            "tags": [],
            "needs_background": "light"
          }
        }
      ]
    },
    {
      "cell_type": "code",
      "metadata": {
        "colab": {
          "base_uri": "https://localhost:8080/",
          "height": 504
        },
        "id": "ESi7J238t_Oh",
        "outputId": "e53aec65-f045-4c14-a0a2-9ff9012184fc"
      },
      "source": [
        "# Lets understand the correlations of each parament using heatmaps\n",
        "corr=titanic.corr()\n",
        "plt.figure(figsize=(10,8))\n",
        "sns.heatmap(corr, annot=True)"
      ],
      "execution_count": null,
      "outputs": [
        {
          "output_type": "execute_result",
          "data": {
            "text/plain": [
              "<matplotlib.axes._subplots.AxesSubplot at 0x7f6b31e14b50>"
            ]
          },
          "metadata": {
            "tags": []
          },
          "execution_count": 31
        },
        {
          "output_type": "display_data",
          "data": {
            "image/png": "[encoded data removed]",
            "text/plain": [
              "<Figure size 720x576 with 2 Axes>"
            ]
          },
          "metadata": {
            "tags": [],
            "needs_background": "light"
          }
        }
      ]
    },
    {
      "cell_type": "markdown",
      "metadata": {
        "id": "o3GOGYoUlx18"
      },
      "source": [
        "There is a weak correlation between the variables.There is no value greatr than 0.5 for the positive correlation and there is no value greater than -0.5 for the weak correlation.\n",
        "\n",
        "Number of siblings or spouses(sibsp) and number of parents or children(parch) have a weak positive correlation of 0.41"
      ]
    },
    {
      "cell_type": "code",
      "metadata": {
        "colab": {
          "base_uri": "https://localhost:8080/",
          "height": 1000
        },
        "id": "iwuvfk92ub7F",
        "outputId": "b4a0eccd-440e-4e09-a6f6-c883d1138ff3"
      },
      "source": [
        "#bivariate ananlysis of categorical data\n",
        "columns=['pclass','sex','embarked']\n",
        "for col in columns:\n",
        "  sns.catplot(x='survived',col=col,kind='count',data=titanic)\n",
        "plt.show()"
      ],
      "execution_count": null,
      "outputs": [
        {
          "output_type": "display_data",
          "data": {
            "image/png": "[encoded data removed]",
            "text/plain": [
              "<Figure size 1080x360 with 3 Axes>"
            ]
          },
          "metadata": {
            "tags": [],
            "needs_background": "light"
          }
        },
        {
          "output_type": "display_data",
          "data": {
            "image/png": "[encoded data removed]",
            "text/plain": [
              "<Figure size 720x360 with 2 Axes>"
            ]
          },
          "metadata": {
            "tags": [],
            "needs_background": "light"
          }
        },
        {
          "output_type": "display_data",
          "data": {
            "image/png": "[encoded data removed]",
            "text/plain": [
              "<Figure size 1080x360 with 3 Axes>"
            ]
          },
          "metadata": {
            "tags": [],
            "needs_background": "light"
          }
        }
      ]
    },
    {
      "cell_type": "markdown",
      "metadata": {
        "id": "fKAoSRs9pATv"
      },
      "source": [
        "**Passenger clas vs Survival**\n",
        "\n",
        "In the first class majorit of the passengers Survived.\n",
        "\n",
        "In the second class majority of the passengers did not survive.\n",
        "\n",
        "in the third class majority of the passngers did not survive.\n",
        "\n",
        "**Gender vs Survival**\n",
        "\n",
        "Majority of the male passengers did not survive.\n",
        "\n",
        "Majority of the female passengers survivied.\n",
        "\n",
        "**Port of Embarkation vs Survival**\n",
        "\n",
        "Majority of the passengers who embarked the Ship at Southampton did not survive.\n",
        "\n",
        "Majority of the passengers who embarked the ship at Cherbourg survived.\n",
        "\n",
        "Majority of the passengers who embarked the shio at Queentown did not survive.\n",
        "\n"
      ]
    },
    {
      "cell_type": "markdown",
      "metadata": {
        "id": "jUoOkRNxyNEX"
      },
      "source": [
        "#Modelling\n"
      ]
    },
    {
      "cell_type": "code",
      "metadata": {
        "colab": {
          "base_uri": "https://localhost:8080/"
        },
        "id": "19Yny7CAxbbg",
        "outputId": "c2714ebe-d366-4a66-dcf7-b4eabbf0c15d"
      },
      "source": [
        "#converting categorical values to numeric\n",
        "from sklearn.preprocessing import LabelEncoder\n",
        "columns=['sex','embarked']\n",
        "for col in columns:\n",
        "  labelencoder = LabelEncoder()\n",
        "  \n",
        "  labelencoder.fit(titanic[col])\n",
        "  titanic[col] = labelencoder.transform(titanic[col])\n",
        "titanic.info()"
      ],
      "execution_count": null,
      "outputs": [
        {
          "output_type": "stream",
          "text": [
            "<class 'pandas.core.frame.DataFrame'>\n",
            "RangeIndex: 891 entries, 0 to 890\n",
            "Data columns (total 7 columns):\n",
            " #   Column    Non-Null Count  Dtype  \n",
            "---  ------    --------------  -----  \n",
            " 0   survived  891 non-null    int64  \n",
            " 1   pclass    891 non-null    int64  \n",
            " 2   sex       891 non-null    int64  \n",
            " 3   age       891 non-null    float64\n",
            " 4   sibsp     891 non-null    int64  \n",
            " 5   parch     891 non-null    int64  \n",
            " 6   embarked  891 non-null    int64  \n",
            "dtypes: float64(1), int64(6)\n",
            "memory usage: 48.9 KB\n"
          ],
          "name": "stdout"
        }
      ]
    },
    {
      "cell_type": "markdown",
      "metadata": {
        "id": "EAiCRtOn0k7x"
      },
      "source": [
        "##80:20"
      ]
    },
    {
      "cell_type": "code",
      "metadata": {
        "colab": {
          "base_uri": "https://localhost:8080/"
        },
        "id": "NKqaas3YyLbR",
        "outputId": "75e92922-4a5b-463c-ca6d-274cf30b3cc1"
      },
      "source": [
        "#Declaring our X and y variables\n",
        "X = titanic.drop('survived', axis=1)\n",
        "y = titanic.survived\n",
        "\n",
        "#Train Test Split (80-20)\n",
        "from sklearn.model_selection import train_test_split\n",
        "X_train, X_test, y_train, y_test = train_test_split(X, y, test_size=0.2, random_state=0)\n",
        "\n",
        "#Feature Scaling \n",
        "from sklearn.preprocessing import StandardScaler\n",
        "scaler = StandardScaler()\n",
        "scaler.fit(X_train)\n",
        "X_train = scaler.transform(X_train)\n",
        "X_test = scaler.transform(X_test)\n",
        "\n",
        "#Training and Predictions\n",
        "from sklearn.neighbors import KNeighborsClassifier\n",
        "classifier = KNeighborsClassifier(n_neighbors=5)\n",
        "classifier.fit(X_train, y_train)\n",
        "\n",
        "#make predictions on our test data\n",
        "y_pred = classifier.predict(X_test)\n",
        "\n",
        "#Evaluating the Algorithm\n",
        "from sklearn.metrics import classification_report, confusion_matrix\n",
        "from sklearn import metrics\n",
        "print(f'Accuracy score =: {metrics.accuracy_score(y_test, y_pred)} ')\n",
        "print(confusion_matrix(y_test, y_pred))\n",
        "print(classification_report(y_test, y_pred))\n"
      ],
      "execution_count": null,
      "outputs": [
        {
          "output_type": "stream",
          "text": [
            "Accuracy score =: 0.7877094972067039 \n",
            "[[96 14]\n",
            " [24 45]]\n",
            "              precision    recall  f1-score   support\n",
            "\n",
            "           0       0.80      0.87      0.83       110\n",
            "           1       0.76      0.65      0.70        69\n",
            "\n",
            "    accuracy                           0.79       179\n",
            "   macro avg       0.78      0.76      0.77       179\n",
            "weighted avg       0.79      0.79      0.78       179\n",
            "\n"
          ],
          "name": "stdout"
        }
      ]
    },
    {
      "cell_type": "markdown",
      "metadata": {
        "id": "uQp3CZSdq2EH"
      },
      "source": [
        "Splitting the data into **80:20** yields to an accuracy score of **79%**.\n",
        "\n",
        "**True Positive :**96\n",
        "\n",
        "**True Negative :**45\n",
        "\n",
        "**False Positive :** 14\n",
        "\n",
        "**False Negative:**24"
      ]
    },
    {
      "cell_type": "code",
      "metadata": {
        "colab": {
          "base_uri": "https://localhost:8080/"
        },
        "id": "DCIOFwVW2PLF",
        "outputId": "cf6c175a-d8c5-42d7-ad6e-2bd04fd68964"
      },
      "source": [
        "#Applying the GridSeachCV to find the best parameters.\n",
        "from sklearn.model_selection import GridSearchCV\n",
        "#List Hyperparameters that we want to tune.\n",
        "n_neighbors = list(range(1,30))\n",
        "p=[1,2]\n",
        "\n",
        "#Convert to dictionary\n",
        "hyperparameters = dict(n_neighbors=n_neighbors, p=p)\n",
        "\n",
        "#Create new KNN object\n",
        "knn_2 = KNeighborsClassifier()\n",
        "\n",
        "#Use GridSearch\n",
        "clf = GridSearchCV(knn_2, hyperparameters, cv=10)\n",
        "\n",
        "#Fit the model\n",
        "best_model = clf.fit(X,y)\n",
        "\n",
        "#Print The value of best Hyperparameters\n",
        "print('Best p:', best_model.best_estimator_.get_params()['p'])\n",
        "print('Best n_neighbors:', best_model.best_estimator_.get_params()['n_neighbors'])"
      ],
      "execution_count": null,
      "outputs": [
        {
          "output_type": "stream",
          "text": [
            "Best p: 1\n",
            "Best n_neighbors: 9\n"
          ],
          "name": "stdout"
        }
      ]
    },
    {
      "cell_type": "markdown",
      "metadata": {
        "id": "GH5RfVZqTTl2"
      },
      "source": [
        "K=9\n",
        "\n",
        "p=1 Equivalent to using manhattan distance. "
      ]
    },
    {
      "cell_type": "code",
      "metadata": {
        "colab": {
          "base_uri": "https://localhost:8080/"
        },
        "id": "jh5EBzou4Xe6",
        "outputId": "b4f83bea-b7ec-45f7-a666-3b7053c7fd76"
      },
      "source": [
        "#applying the tuned parameters\n",
        "#Training \n",
        "from sklearn.neighbors import KNeighborsClassifier\n",
        "classifier = KNeighborsClassifier(n_neighbors=9,p=1)\n",
        "classifier.fit(X_train, y_train)\n",
        "\n",
        "#make predictions on our test data\n",
        "y_pred = classifier.predict(X_test)\n",
        "\n",
        "#Evaluating the Algorithm\n",
        "from sklearn.metrics import classification_report, confusion_matrix\n",
        "from sklearn import metrics\n",
        "print(f'Accuracy score =: {metrics.accuracy_score(y_test, y_pred)} ')\n",
        "print(confusion_matrix(y_test, y_pred))\n",
        "print(classification_report(y_test, y_pred))"
      ],
      "execution_count": null,
      "outputs": [
        {
          "output_type": "stream",
          "text": [
            "Accuracy score =: 0.8100558659217877 \n",
            "[[97 13]\n",
            " [21 48]]\n",
            "              precision    recall  f1-score   support\n",
            "\n",
            "           0       0.82      0.88      0.85       110\n",
            "           1       0.79      0.70      0.74        69\n",
            "\n",
            "    accuracy                           0.81       179\n",
            "   macro avg       0.80      0.79      0.79       179\n",
            "weighted avg       0.81      0.81      0.81       179\n",
            "\n"
          ],
          "name": "stdout"
        }
      ]
    },
    {
      "cell_type": "markdown",
      "metadata": {
        "id": "QYILHRh6rxOy"
      },
      "source": [
        "After applying the tuned prameters the **accuracy score increases to 81%.**\n",
        "\n",
        "**True Positive :**97\n",
        "\n",
        "**True Negative :**48\n",
        "\n",
        "**False Positive :** 13\n",
        "\n",
        "**False Negative:**21"
      ]
    },
    {
      "cell_type": "markdown",
      "metadata": {
        "id": "3lAbKfsg5VRX"
      },
      "source": [
        "##70:30"
      ]
    },
    {
      "cell_type": "code",
      "metadata": {
        "colab": {
          "base_uri": "https://localhost:8080/"
        },
        "id": "JLdxE-8t5Mvd",
        "outputId": "aede6cb9-59b9-4728-e704-24aab957fbf3"
      },
      "source": [
        "#Train Test Split (70-30)\n",
        "from sklearn.model_selection import train_test_split\n",
        "X_train, X_test, y_train, y_test = train_test_split(X, y, test_size=0.3, random_state=0)\n",
        "\n",
        "#Feature Scaling\n",
        "from sklearn.preprocessing import StandardScaler\n",
        "scaler = StandardScaler()\n",
        "scaler.fit(X_train)\n",
        "X_train = scaler.transform(X_train)\n",
        "X_test = scaler.transform(X_test)\n",
        "\n",
        "#Training and Predictions\n",
        "from sklearn.neighbors import KNeighborsClassifier\n",
        "classifier = KNeighborsClassifier(n_neighbors=5)\n",
        "classifier.fit(X_train, y_train)\n",
        "\n",
        "#make predictions on our test data\n",
        "y_pred = classifier.predict(X_test)\n",
        "\n",
        "#Evaluating the Algorithm\n",
        "from sklearn.metrics import classification_report, confusion_matrix\n",
        "from sklearn import metrics\n",
        "print(f'Accuracy score =: {metrics.accuracy_score(y_test, y_pred)} ')\n",
        "print(confusion_matrix(y_test, y_pred))\n",
        "print(classification_report(y_test, y_pred))\n"
      ],
      "execution_count": null,
      "outputs": [
        {
          "output_type": "stream",
          "text": [
            "Accuracy score =: 0.7649253731343284 \n",
            "[[138  30]\n",
            " [ 33  67]]\n",
            "              precision    recall  f1-score   support\n",
            "\n",
            "           0       0.81      0.82      0.81       168\n",
            "           1       0.69      0.67      0.68       100\n",
            "\n",
            "    accuracy                           0.76       268\n",
            "   macro avg       0.75      0.75      0.75       268\n",
            "weighted avg       0.76      0.76      0.76       268\n",
            "\n"
          ],
          "name": "stdout"
        }
      ]
    },
    {
      "cell_type": "markdown",
      "metadata": {
        "id": "ciMq1pBIsQdm"
      },
      "source": [
        "Spliting the data into 70:30 results to a low **accuracy score of 76%** compared to that of the 80:20.\n",
        "\n",
        "**True Positive :**138\n",
        "\n",
        "**True Negative :**67\n",
        "\n",
        "**False Positive:**30\n",
        "\n",
        "**False Negative:**33"
      ]
    },
    {
      "cell_type": "code",
      "metadata": {
        "colab": {
          "base_uri": "https://localhost:8080/"
        },
        "id": "VR3PZaQC5yr5",
        "outputId": "ef1f66fb-747b-4ffc-ceda-81a6ed8b4a76"
      },
      "source": [
        "from sklearn.model_selection import GridSearchCV\n",
        "#List Hyperparameters that we want to tune.\n",
        "n_neighbors = list(range(1,30))\n",
        "p=[1,2]\n",
        "\n",
        "#Convert to dictionary\n",
        "hyperparameters = dict(n_neighbors=n_neighbors, p=p)\n",
        "\n",
        "#Create new KNN object\n",
        "knn_2 = KNeighborsClassifier()\n",
        "\n",
        "#Use GridSearch\n",
        "clf = GridSearchCV(knn_2, hyperparameters, cv=10)\n",
        "\n",
        "#Fit the model\n",
        "best_model = clf.fit(X,y)\n",
        "\n",
        "#Print The value of best Hyperparameters\n",
        "print('Best p:', best_model.best_estimator_.get_params()['p'])\n",
        "print('Best n_neighbors:', best_model.best_estimator_.get_params()['n_neighbors'])"
      ],
      "execution_count": null,
      "outputs": [
        {
          "output_type": "stream",
          "text": [
            "Best p: 1\n",
            "Best n_neighbors: 9\n"
          ],
          "name": "stdout"
        }
      ]
    },
    {
      "cell_type": "code",
      "metadata": {
        "colab": {
          "base_uri": "https://localhost:8080/"
        },
        "id": "anrQaJ7ZACRS",
        "outputId": "c1e526a2-18dc-4197-da49-38c5139e429c"
      },
      "source": [
        "#applying the tuned parameters\n",
        "#Training and Predictions\n",
        "from sklearn.neighbors import KNeighborsClassifier\n",
        "classifier = KNeighborsClassifier(n_neighbors=9,p=1)\n",
        "classifier.fit(X_train, y_train)\n",
        "\n",
        "#make predictions on our test data\n",
        "y_pred = classifier.predict(X_test)\n",
        "\n",
        "#Evaluating the Algorithm\n",
        "from sklearn.metrics import classification_report, confusion_matrix\n",
        "from sklearn import metrics\n",
        "print(f'Accuracy score =: {metrics.accuracy_score(y_test, y_pred)} ')\n",
        "print(confusion_matrix(y_test, y_pred))\n",
        "print(classification_report(y_test, y_pred))"
      ],
      "execution_count": null,
      "outputs": [
        {
          "output_type": "stream",
          "text": [
            "Accuracy score =: 0.7947761194029851 \n",
            "[[146  22]\n",
            " [ 33  67]]\n",
            "              precision    recall  f1-score   support\n",
            "\n",
            "           0       0.82      0.87      0.84       168\n",
            "           1       0.75      0.67      0.71       100\n",
            "\n",
            "    accuracy                           0.79       268\n",
            "   macro avg       0.78      0.77      0.78       268\n",
            "weighted avg       0.79      0.79      0.79       268\n",
            "\n"
          ],
          "name": "stdout"
        }
      ]
    },
    {
      "cell_type": "markdown",
      "metadata": {
        "id": "GGWiG1zGs2-i"
      },
      "source": [
        "Applying the tuned parameters into ou model leads to an **increase in accuracy score to 79%**.But th score is still low than that of the 80-20.\n",
        "\n",
        "**True Positive :**146\n",
        "\n",
        "**True Negative :**67\n",
        "\n",
        "**False Positive :**22\n",
        "\n",
        "**False Negative:**33"
      ]
    },
    {
      "cell_type": "markdown",
      "metadata": {
        "id": "ZaIKoRi8AJiR"
      },
      "source": [
        "##60:40"
      ]
    },
    {
      "cell_type": "code",
      "metadata": {
        "colab": {
          "base_uri": "https://localhost:8080/"
        },
        "id": "lKmGFk2cALUC",
        "outputId": "b9055140-47fc-41a9-adc2-1ddb226e8c98"
      },
      "source": [
        "#Train Test Split (60-40)\n",
        "from sklearn.model_selection import train_test_split\n",
        "X_train, X_test, y_train, y_test = train_test_split(X, y, test_size=0.4, random_state=0)\n",
        "\n",
        "# Feature Scaling\n",
        "from sklearn.preprocessing import StandardScaler\n",
        "scaler = StandardScaler()\n",
        "scaler.fit(X_train)\n",
        "X_train = scaler.transform(X_train)\n",
        "X_test = scaler.transform(X_test)\n",
        "\n",
        "#Training and Predictions\n",
        "from sklearn.neighbors import KNeighborsClassifier\n",
        "classifier = KNeighborsClassifier(n_neighbors=5)\n",
        "classifier.fit(X_train, y_train)\n",
        "\n",
        "#make predictions on our test data\n",
        "y_pred = classifier.predict(X_test)\n",
        "\n",
        "#Evaluating the Algorithm\n",
        "from sklearn.metrics import classification_report, confusion_matrix\n",
        "from sklearn import metrics\n",
        "print(f'Accuracy score =: {metrics.accuracy_score(y_test, y_pred)} ')\n",
        "print(confusion_matrix(y_test, y_pred))\n",
        "print(classification_report(y_test, y_pred))\n"
      ],
      "execution_count": null,
      "outputs": [
        {
          "output_type": "stream",
          "text": [
            "Accuracy score =: 0.7703081232492998 \n",
            "[[185  36]\n",
            " [ 46  90]]\n",
            "              precision    recall  f1-score   support\n",
            "\n",
            "           0       0.80      0.84      0.82       221\n",
            "           1       0.71      0.66      0.69       136\n",
            "\n",
            "    accuracy                           0.77       357\n",
            "   macro avg       0.76      0.75      0.75       357\n",
            "weighted avg       0.77      0.77      0.77       357\n",
            "\n"
          ],
          "name": "stdout"
        }
      ]
    },
    {
      "cell_type": "markdown",
      "metadata": {
        "id": "rNNsWSAdthp8"
      },
      "source": [
        "Splitting the data into 60:40 yields an **accuracy score of 77%** which is the least compard to the 80:20 and 70:30.\n",
        "\n",
        "**True Positive :**185\n",
        "\n",
        "**True Negative :**90\n",
        "\n",
        "**False Positive :**36\n",
        "\n",
        "**False Negative:**46"
      ]
    },
    {
      "cell_type": "code",
      "metadata": {
        "colab": {
          "base_uri": "https://localhost:8080/"
        },
        "id": "0Gslc7hVAa-H",
        "outputId": "77856c94-117f-4e2e-fcc5-926bcaabe606"
      },
      "source": [
        "from sklearn.model_selection import GridSearchCV\n",
        "#List Hyperparameters that we want to tune.\n",
        "n_neighbors = list(range(1,30))\n",
        "p=[1,2]\n",
        "\n",
        "#Convert to dictionary\n",
        "hyperparameters = dict(n_neighbors=n_neighbors, p=p)\n",
        "\n",
        "#Create new KNN object\n",
        "knn_2 = KNeighborsClassifier()\n",
        "\n",
        "#Use GridSearch\n",
        "clf = GridSearchCV(knn_2, hyperparameters, cv=10)\n",
        "\n",
        "#Fit the model\n",
        "best_model = clf.fit(X,y)\n",
        "\n",
        "#Print The value of best Hyperparameters\n",
        "print('Best p:', best_model.best_estimator_.get_params()['p'])\n",
        "print('Best n_neighbors:', best_model.best_estimator_.get_params()['n_neighbors'])"
      ],
      "execution_count": null,
      "outputs": [
        {
          "output_type": "stream",
          "text": [
            "Best p: 1\n",
            "Best n_neighbors: 9\n"
          ],
          "name": "stdout"
        }
      ]
    },
    {
      "cell_type": "code",
      "metadata": {
        "colab": {
          "base_uri": "https://localhost:8080/"
        },
        "id": "G9BEuVH8AdXw",
        "outputId": "8311dbfc-658e-47ef-dd22-ed211e268a37"
      },
      "source": [
        "#applying the tuned parameters\n",
        "#Training \n",
        "from sklearn.neighbors import KNeighborsClassifier\n",
        "classifier = KNeighborsClassifier(n_neighbors=9,p=1)\n",
        "classifier.fit(X_train, y_train)\n",
        "\n",
        "#make predictions on our test data\n",
        "y_pred = classifier.predict(X_test)\n",
        "\n",
        "#Evaluating the Algorithm\n",
        "from sklearn.metrics import classification_report, confusion_matrix\n",
        "from sklearn import metrics\n",
        "print(f'Accuracy score =: {metrics.accuracy_score(y_test, y_pred)} ')\n",
        "print(confusion_matrix(y_test, y_pred))\n",
        "print(classification_report(y_test, y_pred))"
      ],
      "execution_count": null,
      "outputs": [
        {
          "output_type": "stream",
          "text": [
            "Accuracy score =: 0.8207282913165266 \n",
            "[[201  20]\n",
            " [ 44  92]]\n",
            "              precision    recall  f1-score   support\n",
            "\n",
            "           0       0.82      0.91      0.86       221\n",
            "           1       0.82      0.68      0.74       136\n",
            "\n",
            "    accuracy                           0.82       357\n",
            "   macro avg       0.82      0.79      0.80       357\n",
            "weighted avg       0.82      0.82      0.82       357\n",
            "\n"
          ],
          "name": "stdout"
        }
      ]
    },
    {
      "cell_type": "markdown",
      "metadata": {
        "id": "96ZvWCYzuP9D"
      },
      "source": [
        "Applying the tuned parameters leads to the **highest accuracy score of 82%.**\n",
        "\n",
        "**True Positive :**201\n",
        "\n",
        "**True Negative :**92\n",
        "\n",
        "**False Positive :**20\n",
        "\n",
        "**False Negative:**44"
      ]
    },
    {
      "cell_type": "markdown",
      "metadata": {
        "id": "K9BddfqmuiUu"
      },
      "source": [
        "##Challenging the solution"
      ]
    },
    {
      "cell_type": "markdown",
      "metadata": {
        "id": "Wo8khIbnuym-"
      },
      "source": [
        "1. Did we have the right data?Yes.The data provided was right.\n",
        "2. Did we use the correct models?Yes.The model had a high accuracy score."
      ]
    },
    {
      "cell_type": "markdown",
      "metadata": {
        "id": "BK_8N3Myu4Ak"
      },
      "source": [
        "##Conclusion"
      ]
    },
    {
      "cell_type": "markdown",
      "metadata": {
        "id": "Zg6jbc4Xu6rY"
      },
      "source": [
        "**Model Accuracy**\n",
        "\n",
        "**Before Tuning the parameters**\n",
        "\n",
        "**80:20 -**79%\n",
        "\n",
        "**70:30 -**76%\n",
        "\n",
        "**60:40 -**77%\n",
        "\n",
        "**After Tuning the parameters**\n",
        "\n",
        "**80:20 -**81%\n",
        "\n",
        "**70:30 -**79%\n",
        "\n",
        "**60:40 -**82%\n",
        "\n",
        "\n",
        "We recommended that we should use the 60:40 model with the tuned parameters to predict if the passenger survived or not since it yielded a high accuracy score of 82%. "
      ]
    }
  ]
}